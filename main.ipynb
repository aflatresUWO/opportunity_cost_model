{
 "cells": [
  {
   "cell_type": "markdown",
   "id": "0bd7896b",
   "metadata": {},
   "source": [
    "## Aim:"
   ]
  },
  {
   "cell_type": "markdown",
   "id": "92f1f764",
   "metadata": {},
   "source": [
    "This algorithm aims for the computation of the evolution of stay-and-help strategy in a population composed of breeders, subordinates and waiters. "
   ]
  },
  {
   "cell_type": "markdown",
   "id": "99329a26",
   "metadata": {},
   "source": [
    "## Libraries"
   ]
  },
  {
   "cell_type": "code",
   "execution_count": 3,
   "id": "02560638",
   "metadata": {},
   "outputs": [],
   "source": [
    "using LinearAlgebra\n",
    "using Plots\n",
    "using LaTeXStrings\n",
    "using Profile\n",
    "using Random\n",
    "using CSV\n",
    "using DataFrames"
   ]
  },
  {
   "cell_type": "markdown",
   "id": "7f6044ec",
   "metadata": {},
   "source": [
    "## Parameters"
   ]
  },
  {
   "cell_type": "code",
   "execution_count": 11,
   "id": "be8f2c7e",
   "metadata": {},
   "outputs": [
    {
     "data": {
      "text/plain": [
       "Dict{String, Any} with 17 entries:\n",
       "  \"s_u\"     => 0.5\n",
       "  \"h_x_bar\" => 0\n",
       "  \"h_x\"     => 0\n",
       "  \"p_u\"     => 0.5\n",
       "  \"s_y\"     => 0.5\n",
       "  \"a\"       => 2\n",
       "  \"h_y_bar\" => 0\n",
       "  \"M\"       => 1\n",
       "  \"s_jx\"    => 0.5\n",
       "  \"phi\"     => 0.1\n",
       "  \"reason\"  => \"reason\"\n",
       "  \"b_x\"     => 3\n",
       "  \"h_y\"     => 0\n",
       "  \"b_y\"     => 4\n",
       "  \"s_jy\"    => 0.5\n",
       "  \"s_x\"     => 0.5\n",
       "  \"p_j\"     => 0.4"
      ]
     },
     "execution_count": 11,
     "metadata": {},
     "output_type": "execute_result"
    }
   ],
   "source": [
    "#parameters\n",
    "\n",
    "#survival\n",
    "s_u = 0.5\n",
    "s_x = 0.5\n",
    "s_y = 0.5\n",
    "s_jx = 0.5\n",
    "s_jy = 0.5\n",
    "\n",
    "#fecundity\n",
    "b_x = 3\n",
    "b_y = 4\n",
    "phi = 0.1\n",
    "M = 1\n",
    "theta_x(x,y) = (1-phi)*x/(x+y)\n",
    "theta_y(x,y) = (1-phi)*y/(x+y)\n",
    "psi_x(x,y) = 1+phi+theta_x(x,y)\n",
    "psi_y(x,y) = 1+phi+theta_y(x,y)\n",
    "\n",
    "#competition\n",
    "p_u = 0.5\n",
    "p_j = 0.4\n",
    "a = 2\n",
    "p_u_tilde(x,y) = p_u/(1+a*(x+y))\n",
    "p_j_tilde(x,y) = p_j/(1+a*(x+y))\n",
    "\n",
    "#Cooperation\n",
    "h_x = 0\n",
    "h_y = 0\n",
    "h_x_bar = 0\n",
    "h_y_bar = 0\n",
    "T_x(h_x) = 1-exp(-h_x*b_x)\n",
    "T_y(h_y) = exp(-h_y*b_y)\n",
    "reason = \"reason\"\n",
    "parameters = Dict(\"b_x\"=>b_x,\"b_y\"=>b_y,\"s_u\"=>s_u,\"s_jx\"=>s_jx,\"s_jy\"=>s_jy,\"s_x\"=>s_x,\"s_y\"=>s_y,\"phi\"=>phi,\"M\"=>M,\"a\"=>a,\"p_u\"=>p_u,\"p_j\"=>p_j,\"h_x\" =>h_x, \"h_y\" =>h_y,\"h_x_bar\" =>h_x_bar, \"h_y_bar\" =>h_y_bar,\"reason\" => reason)\n"
   ]
  },
  {
   "cell_type": "markdown",
   "id": "43134ebd",
   "metadata": {},
   "source": [
    "## Simulation"
   ]
  },
  {
   "cell_type": "code",
   "execution_count": 13,
   "id": "8d3f6b64",
   "metadata": {},
   "outputs": [
    {
     "data": {
      "text/plain": [
       "R_0 (generic function with 1 method)"
      ]
     },
     "execution_count": 13,
     "metadata": {},
     "output_type": "execute_result"
    }
   ],
   "source": [
    "# Wild type matrix\n",
    "function A(x,y,parameters) \n",
    "    \n",
    "    b_x = parameters[\"b_x\"]\n",
    "    b_y = parameters[\"b_y\"]\n",
    "    s_u = parameters[\"s_u\"]\n",
    "    s_jx = parameters[\"s_jx\"]\n",
    "    s_jy = parameters[\"s_jy\"]\n",
    "    s_x = parameters[\"s_x\"]\n",
    "    s_y = parameters[\"s_y\"]\n",
    "    p_u = parameters[\"p_u\"]\n",
    "    p_j = parameters[\"p_j\"]\n",
    "    a = parameters[\"a\"]\n",
    "    M = parameters[\"M\"]\n",
    "    phi = parameters[\"phi\"]\n",
    "    h_x = parameters[\"h_x\"]\n",
    "    h_y = parameters[\"h_y\"]\n",
    "    h_x_bar = parameters[\"h_x_bar\"]\n",
    "    h_y_bar = parameters[\"h_y_bar\"]\n",
    "    p_u_tilde(x,y) = p_u/(1+a*(x+y))\n",
    "    p_j_tilde(x,y) = p_j/(1+a*(x+y))\n",
    "    \n",
    "    h_x = parameters[\"h_x\"]\n",
    "    h_y = parameters[\"h_y\"]\n",
    "    h_x_bar = parameters[\"h_x_bar\"]\n",
    "    h_y_bar = parameters[\"h_y_bar\"]\n",
    "    T_x(h_x) = 1-exp(-h_x*b_x)\n",
    "    T_y(h_y) = exp(-h_y*b_y)\n",
    "    \n",
    "    return [s_u*(1-p_u_tilde(x,y)) 0 0 (1-h_x)*s_u*(1-p_u_tilde(x,y))+h_x*(T_x(h_x_bar)*s_jy+(1-T_x(h_x_bar))*s_jx)*(1-p_j_tilde(x,y)) (1-h_y)*s_u*(1-p_u_tilde(x,y))+h_y*(T_y(h_y_bar)*s_jx+(1-T_y(h_y_bar))*s_jy)*(1-p_j_tilde(x,y))\n",
    "    ; s_u*p_u_tilde(x,y) (1-T_x(h_x_bar))*s_x T_y(h_y_bar)*s_x (1-h_x)*s_u*p_u_tilde(x,y)+h_x*(T_x(h_x_bar)*s_jy+(1-T_x(h_x_bar))*s_jx)*p_j_tilde(x,y) (1-h_y)*s_u*p_u_tilde(x,y)+h_y*(T_y(h_y_bar)*s_jx+(1-T_y(h_y_bar))*s_jy)*p_j_tilde(x,y)\n",
    "    ; 0 T_x(h_x_bar)*s_y (1-T_y(h_y_bar))*s_y 0 0\n",
    "    ; s_u*p_u_tilde(x,y)*b_x (1-T_x(h_x_bar))*s_x*b_x T_y(h_y_bar)*s_x*b_x ((1-h_x)*s_u*p_u_tilde(x,y)+h_x*(T_x(h_x_bar)*s_jy+(1-T_x(h_x_bar))*s_jx)*p_j_tilde(x,y))*b_x ((1-h_y)*s_u*p_u_tilde(x,y)+h_y*(T_y(h_y_bar)*s_jx+(1-T_y(h_y_bar))*s_jy)*p_j_tilde(x,y))*b_x\n",
    "    ; 0 T_x(h_x_bar)*s_y*b_y (1-T_y(h_y_bar))*s_y*b_y 0 0\n",
    "    ];\n",
    "end\n",
    "\n",
    "# Mutant matrix\n",
    "function Mutant(x,y,parameters) \n",
    "    \n",
    "    b_x = parameters[\"b_x\"]\n",
    "    b_y = parameters[\"b_y\"]\n",
    "    s_u = parameters[\"s_u\"]\n",
    "    s_jx = parameters[\"s_jx\"]\n",
    "    s_jy = parameters[\"s_jy\"]\n",
    "    s_x = parameters[\"s_x\"]\n",
    "    s_y = parameters[\"s_y\"]\n",
    "    p_u = parameters[\"p_u\"]\n",
    "    p_j = parameters[\"p_j\"]\n",
    "    a = parameters[\"a\"]\n",
    "    phi = parameters[\"phi\"]\n",
    "    p_u_tilde(x,y) = p_u/(1+a*(x+y))\n",
    "    p_j_tilde(x,y) = p_j/(1+a*(x+y))\n",
    "    theta_x(x,y) = (1-phi)*x/(x+y)\n",
    "    theta_y(x,y) = (1-phi)*y/(x+y)\n",
    "    \n",
    "    psi_x(x,y) = theta_x(x,y)+1+phi\n",
    "    psi_y(x,y) = theta_y(x,y)+1+phi\n",
    "    T_x(h_x) = 1-exp(-h_x*b_x)\n",
    "    T_y(h_y) = exp(-h_y*b_y)\n",
    "    \n",
    "    h_x = parameters[\"h_x\"]\n",
    "    h_y = parameters[\"h_y\"]\n",
    "    h_x_bar = parameters[\"h_x_bar\"]\n",
    "    h_y_bar = parameters[\"h_y_bar\"]\n",
    "    return [\n",
    "        s_u*(1-p_u_tilde(x,y)) 0 0 (1-h_x)*s_u*(1-p_u_tilde(x,y))+h_x*(T_x(h_x_bar)*s_jy+(1-T_x(h_x_bar))*s_jx)*(1-p_j_tilde(x,y)) (1-h_y)*s_u*(1-p_u_tilde(x,y))+h_y*(T_y(h_y_bar)*s_jx+(1-T_y(h_y_bar))*s_jy)*(1-p_j_tilde(x,y))\n",
    "    ; s_u*p_u_tilde(x,y) (1-T_x(h_x_bar))*s_x T_y(h_y_bar)*s_x (1-h_x)*s_u*p_u_tilde(x,y)+h_x*(T_x(h_x_bar)*s_jy+(1-T_x(h_x_bar))*s_jx)*p_j_tilde(x,y) (1-h_y)*s_u*p_u_tilde(x,y)+h_y*(T_y(h_y_bar)*s_jx+(1-T_y(h_y_bar))*s_jy)*p_j_tilde(x,y)\n",
    "    ; 0 T_x(h_x_bar)*s_y (1-T_y(h_y_bar))*s_y 0 0\n",
    "    ; s_u*p_u_tilde(x,y)*b_x/2*psi_x(x,y) (1-T_x(h_x_bar))*s_x*b_x/2*psi_x(x,y)+T_x(h_x_bar)*s_y*b_x/2*theta_x(x,y) T_y(h_y_bar)*s_x*b_x/2*psi_x(x,y)+(1-T_y(h_y_bar))*s_y*b_x/2*theta_x(x,y) (1-h_x)*s_u*p_u_tilde(x,y)*b_x/2*psi_x(x,y)+h_x*(T_x(h_x_bar)*s_jy+(1-T_x(h_x_bar))*s_jx)*p_j_tilde(x,y)*b_x/2*psi_x(x,y) (1-h_y)*s_u*p_u_tilde(x,y)*b_x/2*psi_x(x,y)+h_y*(T_y(h_y_bar)*s_jx+(1-T_y(h_y_bar))*s_jy)*p_j_tilde(x,y)*b_x/2*psi_x(x,y)\n",
    "    ; s_u*p_u_tilde(x,y)*b_y/2*theta_y(x,y) (1-T_x(h_x_bar))*s_x*b_y/2*theta_y(x,y)+T_x(h_x_bar)*s_y*b_y/2*psi_y(x,y) T_y(h_y_bar)*s_x*b_y/2*theta_y(x,y)+(1-T_y(h_y_bar))*s_y*b_y/2*psi_y(x,y) (1-h_x)*s_u*p_u_tilde(x,y)*b_y/2*theta_y(x,y)+h_x*(T_x(h_x_bar)*s_jy+(1-T_x(h_x_bar))*s_jx)*p_j_tilde(x,y)*b_y/2*theta_y(x,y) (1-h_y)*s_u*p_u_tilde(x,y)*b_y/2*theta_y(x,y)+h_y*(T_y(h_y_bar)*s_jx+(1-T_y(h_y_bar))*s_jy)*p_j_tilde(x,y)*b_y/2*theta_y(x,y)\n",
    "        ];\n",
    "end;\n",
    "\n",
    "function equilibrium_mu(parameters)\n",
    "    mu = rand!(zeros(5,1))\n",
    "    while sum(abs.(mu - A(mu[2], mu[3],parameters)*mu)) > 1e-7\n",
    "        mu = A(mu[2], mu[3],parameters)*mu\n",
    "    end\n",
    "    return mu\n",
    "end;\n",
    "\n",
    "function equilibrium_nu(parameters,mu)\n",
    "    nu = rand!(zeros(1,5))\n",
    "    while sum(abs.(nu - nu*A(mu[2], mu[3],parameters))) >1e-7\n",
    "        nu = nu*A(mu[2], mu[3],parameters)\n",
    "        nu /= sum(nu)\n",
    "    end\n",
    "    return nu\n",
    "end;\n",
    "\n",
    "function equilibrium_nu_M(parameters,mu)\n",
    "    nu = rand!(zeros(1,5))\n",
    "    while sum(abs.(nu - nu*Mutant(mu[2], mu[3],parameters))) >1e-7\n",
    "        nu = nu*Mutant(mu[2], mu[3],parameters)\n",
    "        nu /= sum(nu)\n",
    "    end\n",
    "    return nu\n",
    "end;\n",
    "\n",
    "function R_jp(phi)\n",
    "    \n",
    "    R_jp = 1/2*(1+phi)\n",
    "\n",
    "    return  R_jp\n",
    "end\n",
    "\n",
    "function R_siblings_x(parameters)\n",
    "    b_x = parameters[\"b_x\"] \n",
    "    M = parameters[\"M\"]\n",
    "    phi = parameters[\"phi\"]\n",
    "    R_siblings_x = (1-1/b_x)*(phi^2+phi*(1-phi)/2+(1-phi)^2*(1/4+1/(4*M)))+1/b_x\n",
    "    return  R_siblings_x\n",
    "end\n",
    "function R_siblings_y(parameters)\n",
    "    M = parameters[\"M\"]\n",
    "    phi = parameters[\"phi\"]\n",
    "    b_y = parameters[\"b_y\"]\n",
    "    R_siblings_y = (1-1/b_y)*(phi^2+phi*(1-phi)/2+(1-phi)^2*(1/4+1/(4*M)))+1/b_y\n",
    "\n",
    "    return  R_siblings_y\n",
    "end\n",
    "\n",
    "\n",
    "\n",
    "\n",
    "function R_0(parameters)\n",
    "    b_x = parameters[\"b_x\"]\n",
    "    b_y = parameters[\"b_y\"]\n",
    "    s_u = parameters[\"s_u\"]\n",
    "    s_jx = parameters[\"s_jx\"]\n",
    "    s_jy = parameters[\"s_jy\"]\n",
    "    s_x = parameters[\"s_x\"]\n",
    "    s_y = parameters[\"s_y\"]\n",
    "    p_u = parameters[\"p_u\"]\n",
    "    p_j = parameters[\"p_j\"]\n",
    "    a = parameters[\"a\"]\n",
    "    p_u_tilde(x,y) = p_u/(1+a*(x+y))\n",
    "    p_j_tilde(x,y) = p_j/(1+a*(x+y))\n",
    "    M = parameters[\"M\"]\n",
    "    phi = parameters[\"phi\"]\n",
    "    h_x = parameters[\"h_x\"]\n",
    "    h_y = parameters[\"h_y\"]\n",
    "    h_x_bar = parameters[\"h_x_bar\"]\n",
    "    h_y_bar = parameters[\"h_y_bar\"]\n",
    "    nu_u = 1\n",
    "    nu_jx = (1 - h_x) + h_x*((1 − T_x(h_x_bar))*s_jx + T_x(h_x_bar)*s_jy )*(1 − p_j+p_j*(1-s_u*(1-p_u))/s_u/p_u)\n",
    "    nu_jy = (1 - h_y) + h_y*((1 − T_y(h_y_bar))*s_jy + T_y(h_y_bar)*s_jx )*(1 − p_j+p_j*(1-s_u*(1-p_u))/s_u/p_u)\n",
    "    nu_y = 1/(1-s_y*(1-T_y(h_y_bar)))*(((1-T_y(h_y_bar))*s_y*b_y*nu_jy)+T_y(h_y_bar)*s_x*(1-s_u*(1-p_u))/s_u/p_u)\n",
    "    nu_x = (1-T_x(h_x_bar))*s_x*(1-s_u*(1-p_u))/s_u/p_u+T_x(h_x_bar)*s_y*(nu_y+b_y*nu_jy)\n",
    "    R_0 = s_u*(1-p_u)*nu_u+s_u*p_u*(nu_x+b_x*nu_jx)\n",
    "    return R_0\n",
    "end\n",
    "\n"
   ]
  },
  {
   "cell_type": "markdown",
   "id": "68f3df35",
   "metadata": {},
   "source": [
    "### Equilibrium computation"
   ]
  },
  {
   "cell_type": "code",
   "execution_count": 4,
   "id": "db19810d",
   "metadata": {},
   "outputs": [
    {
     "name": "stdout",
     "output_type": "stream",
     "text": [
      "[3.8888886790034882; 3.33333322501637; 0.0; 9.99999967504911; 0.0;;]\n"
     ]
    }
   ],
   "source": [
    "function equilibrium()\n",
    "    pop = transpose([1 1 1 1 1])\n",
    "    for t in t_0:t_max\n",
    "        pop = A(pop[3], pop[4],parameters)*pop\n",
    "    end\n",
    "    return pop\n",
    "end;\n",
    "println(equilibrium())"
   ]
  },
  {
   "cell_type": "code",
   "execution_count": 8,
   "id": "51f2140b",
   "metadata": {},
   "outputs": [
    {
     "name": "stdout",
     "output_type": "stream",
     "text": [
      "[0.06976575770046821 0.3948858539015825 0.3979098456310402 0.06871927138345459 0.06871927138345459]\n",
      "[0.07094973511474201 0.3937939333625197 0.39548535367114374 0.06988548892579723 0.06988548892579723]\n"
     ]
    }
   ],
   "source": [
    "parameters[\"h_x\"] = 0.3\n",
    "parameters[\"h_y\"] = 0.3\n",
    "parameters[\"h_x_bar\"] = 0.3\n",
    "parameters[\"h_y_bar\"] = 0.3\n",
    "mu = equilibrium_mu(parameters)\n",
    "println(equilibrium_nu(parameters,mu))\n",
    "println(equilibrium_nu_M(parameters,mu))"
   ]
  },
  {
   "cell_type": "markdown",
   "id": "06030f61",
   "metadata": {},
   "source": [
    "## Evolution"
   ]
  },
  {
   "cell_type": "code",
   "execution_count": 14,
   "id": "7f705bb0",
   "metadata": {},
   "outputs": [],
   "source": [
    "function Fitness_comput(parameters)\n",
    "    d_hx = 0.001\n",
    "    d_hx_bar = 0.001\n",
    "    d_hy = 0.001\n",
    "    d_hy_bar = 0.001\n",
    "    dW_x = 0\n",
    "    dW_y = 0\n",
    "    # Find eigenvectors: mu, nu\n",
    "\n",
    "    mu = equilibrium_mu(parameters)\n",
    "    nu = equilibrium_nu_M(parameters, mu)\n",
    "\n",
    "    # h_x, h_x_bar\n",
    "    parameters[\"h_x\"] += d_hx\n",
    "    W_indiv_hx_up = nu*Mutant(mu[2], mu[3],parameters)*[0,0,0,mu[4],0]\n",
    "    parameters[\"h_x\"] -= 2*d_hx\n",
    "    W_indiv_hx_down = nu*Mutant(mu[2], mu[3],parameters)*[0,0,0,mu[4],0]\n",
    "\n",
    "    parameters[\"h_x\"] += d_hx\n",
    "    parameters[\"h_x_bar\"] +=d_hx_bar\n",
    "    \n",
    "    W_parent_hx_up = nu*Mutant(mu[2], mu[3],parameters)*[0,mu[2],0,0,0]\n",
    "    W_siblings_hx_up = nu*Mutant(mu[2], mu[3],parameters)*[0,0,0,mu[4],0]\n",
    "\n",
    "    parameters[\"h_x_bar\"] -= 2*d_hx_bar\n",
    "    W_parent_hx_down = nu*Mutant(mu[2], mu[3],parameters)*[0,mu[2],0,0,0]\n",
    "    W_siblings_hx_down = nu*Mutant(mu[2], mu[3],parameters)*[0,0,0,mu[4],0]\n",
    "\n",
    "\n",
    "    parameters[\"h_x_bar\"] +=d_hx_bar\n",
    "\n",
    "    #control by subordinate\n",
    "    W_indiv_hx = W_indiv_hx_up-W_indiv_hx_down\n",
    "    W_parent_hx = R_jp(parameters[\"phi\"])*(W_parent_hx_up-W_parent_hx_down)\n",
    "    W_siblings_hx = R_siblings_x(parameters)*(W_siblings_hx_up-W_siblings_hx_down)\n",
    "\n",
    "    #control by parent\n",
    "    #W_parent_hx = (W_parent_hx_up-W_parent_hx_down)\n",
    "    #W_indiv_hx = R_jp(parameters[\"phi\"])*(W_indiv_hx_up-W_indiv_hx_down)\n",
    "    #W_siblings_hx = R_jp(parameters[\"phi\"])*(W_siblings_hx_up-W_siblings_hx_down)\n",
    "    dW_x = W_parent_hx[1]+W_indiv_hx[1]+W_siblings_hx[1]\n",
    "\n",
    "    # h_y, h_y_bar\n",
    "\n",
    "    parameters[\"h_y\"] += d_hy\n",
    "    W_indiv_hy_up = nu*Mutant(mu[2], mu[3],parameters)*[0,0,0,0,mu[5]]\n",
    "    parameters[\"h_y\"] -= 2*d_hy\n",
    "    W_indiv_hy_down = nu*Mutant(mu[2], mu[3],parameters)*[0,0,0,0,mu[5]]\n",
    "\n",
    "    parameters[\"h_y\"] += d_hy\n",
    "    parameters[\"h_y_bar\"] += d_hy_bar\n",
    "    \n",
    "    W_parent_hy_up = nu*Mutant(mu[2], mu[3],parameters)*[0,0,mu[3],0,0]\n",
    "    W_siblings_hy_up = nu*Mutant(mu[2], mu[3],parameters)*[0,0,0,0,mu[5]]\n",
    "\n",
    "    parameters[\"h_y_bar\"] -= 2*d_hy_bar\n",
    "    W_parent_hy_down = nu*Mutant(mu[2], mu[3],parameters)*[0,0,mu[3],0,0]\n",
    "    W_siblings_hy_down = nu*Mutant(mu[2], mu[3],parameters)*[0,0,0,0,mu[5]]\n",
    "    parameters[\"h_y_bar\"] += d_hy_bar\n",
    "    \n",
    "    \n",
    "    #control by subordinate\n",
    "    W_indiv_hy = W_indiv_hy_up-W_indiv_hy_down\n",
    "    W_parent_hy = R_jp(parameters[\"phi\"])*(W_parent_hy_up-W_parent_hy_down)\n",
    "    W_siblings_hy = R_siblings_y(parameters)*(W_siblings_hy_up-W_siblings_hy_down)\n",
    "    #control by parent\n",
    "    #W_indiv_hy = R_jp(parameters[\"phi\"])*(W_indiv_hy_up-W_indiv_hy_down)\n",
    "    #W_parent_hy = (W_parent_hy_up-W_parent_hy_down)\n",
    "    #W_siblings_hy = R_jp(parameters[\"phi\"])*(W_siblings_hy_up-W_siblings_hy_down)\n",
    "    dW_y = W_parent_hy[1]+W_indiv_hy[1]+W_siblings_hy[1]\n",
    "    \n",
    "   \n",
    "    return dW_x, dW_y\n",
    "   \n",
    "    \n",
    "end;\n",
    "\n"
   ]
  },
  {
   "cell_type": "code",
   "execution_count": 15,
   "id": "8cf01f20",
   "metadata": {},
   "outputs": [
    {
     "data": {
      "text/plain": [
       "ESS (generic function with 1 method)"
      ]
     },
     "execution_count": 15,
     "metadata": {},
     "output_type": "execute_result"
    }
   ],
   "source": [
    "function ESS(parameters)\n",
    "    dW_x = 1\n",
    "    dW_y = 1\n",
    "    i=0\n",
    "    h_x_mem = 1\n",
    "    h_y_mem = 1\n",
    "    reason = \"no found\"\n",
    "    while abs(dW_x) > 1e-8 || abs(dW_y) > 1e-8\n",
    "      \n",
    "        i += 1\n",
    "        #If taking too much time\n",
    "        if i > 100000\n",
    "            reason = \"i>100000\"\n",
    "            break\n",
    "            println(\"too long\")\n",
    "        end\n",
    "        \n",
    "        \n",
    "        #Same values previously computed\n",
    "        if parameters[\"h_x\"]==h_x_mem && parameters[\"h_y\"]==h_y_mem\n",
    "            reason = \"stagnation\"\n",
    "            break\n",
    "        end\n",
    "        \n",
    "        \n",
    "        dW_x,dW_y = Fitness_comput(parameters)\n",
    "        \n",
    "        #Loading previous values\n",
    "        h_x_mem = parameters[\"h_x\"]\n",
    "        h_y_mem = parameters[\"h_y\"]\n",
    "    \n",
    "        #New values\n",
    "        parameters[\"h_x\"] += dW_x\n",
    "        parameters[\"h_x_bar\"] += dW_x\n",
    "        \n",
    "        parameters[\"h_y\"] += dW_y\n",
    "        parameters[\"h_y_bar\"] += dW_y\n",
    "        \n",
    "        #Boundaries conditions\n",
    "        parameters[\"h_x\"] = clamp(parameters[\"h_x\"],0,1)\n",
    "        parameters[\"h_y\"] = clamp(parameters[\"h_y\"],0,1)\n",
    "        parameters[\"h_x_bar\"] = parameters[\"h_x\"]\n",
    "        parameters[\"h_y_bar\"] = parameters[\"h_y\"]\n",
    "         \n",
    "    end\n",
    "    if abs(dW_x) < 1e-8 || abs(dW_y) < 1e-10\n",
    "        reason = \"ess found\"\n",
    "    end\n",
    "    parameters[\"h_x\"] = clamp(parameters[\"h_x\"],0,1)\n",
    "    parameters[\"h_y\"] = clamp(parameters[\"h_y\"],0,1)\n",
    "    parameters[\"h_x_bar\"] = parameters[\"h_x\"]\n",
    "    parameters[\"h_y_bar\"] = parameters[\"h_y\"]\n",
    "    parameters[\"reason\"] = reason\n",
    "    return parameters\n",
    "\n",
    "end\n"
   ]
  },
  {
   "cell_type": "markdown",
   "id": "0bdbe333",
   "metadata": {},
   "source": [
    "## Simulation"
   ]
  },
  {
   "cell_type": "code",
   "execution_count": null,
   "id": "713a9a98",
   "metadata": {},
   "outputs": [],
   "source": [
    "#Group augmentation on breeder fecundity\n",
    "parameters[\"s_x\"] = 0.4\n",
    "parameters[\"s_y\"] = 0.4\n",
    "parameters[\"s_u\"] = 0.4\n",
    "parameters[\"s_jx\"] = 0.4\n",
    "parameters[\"s_jy\"] = 0.4\n",
    "parameters[\"p_j\"] = 0.5\n",
    "parameters[\"p_u\"] = 0.6\n",
    "parameters[\"b_x\"] = 3\n",
    "parameters[\"b_y\"] = 3\n",
    "parameters[\"phi\"] = 0.1\n",
    "\n",
    "N = 5\n",
    "h_x_csv = zeros(N^2)\n",
    "h_y_csv = zeros(N^2)\n",
    "P_csv = zeros(N^2)\n",
    "P2_csv = zeros(N^2)\n",
    "b_csv = zeros(N^2)\n",
    "db_csv = zeros(N^2)\n",
    "GA_csv = zeros(N^2)\n",
    "reason_csv = Array{String}(undef, N^2)\n",
    "i = 1\n",
    "\n",
    "for b_x in range(2,7,N)\n",
    "    parameters[\"b_x\"] = b_x\n",
    "   \n",
    "    for db = range(0,2,N)\n",
    "        parameters[\"b_y\"] = b_x+db\n",
    "\n",
    "        parameters[\"h_x\"] = 0\n",
    "        parameters[\"h_y\"] = 0\n",
    "        parameters[\"h_x_bar\"] = 0\n",
    "        parameters[\"h_y_bar\"] = 0\n",
    "        if R_0(parameters) > 1.02\n",
    "\n",
    "            eq = equilibrium_mu(parameters)\n",
    "            P = parameters[\"s_u\"]*parameters[\"p_u\"]/(1+a*(eq[2]+eq[3]))/(1-parameters[\"s_u\"]*(1-parameters[\"p_u\"]/(1+a*(eq[2]+eq[3]))))           \n",
    "            \n",
    "            parameters = ESS(parameters)\n",
    "\n",
    "            eq = equilibrium_mu(parameters)\n",
    "            mu = eq\n",
    "            nu = equilibrium_nu_M(parameters,mu)\n",
    "            P2 = parameters[\"s_u\"]*parameters[\"p_u\"]/(1+a*(eq[2]+eq[3]))/(1-parameters[\"s_u\"]*(1-parameters[\"p_u\"]/(1+a*(eq[2]+eq[3]))))\n",
    "            \n",
    "            h_x_csv[i] = parameters[\"h_x\"]\n",
    "            h_y_csv[i] = parameters[\"h_y\"]\n",
    "            GA_csv[i] = (1-p_j_tilde(mu[2],mu[3]))*nu[1]+p_j_tilde(mu[2],mu[3])*(nu[2]+(1+phi)*b_x/2*nu[4]+(1-phi)*mu[2]/(mu[2]+mu[3])*b_x/2*nu[4]+(1-phi)*mu[3]/(mu[2]+mu[3])*b_y/2*nu[5])\n",
    "            P_csv[i] = P\n",
    "            P2_csv[i] = P2\n",
    "            b_csv[i] = b_x\n",
    "            db_csv[i] = db\n",
    "            \n",
    "        \n",
    "        end\n",
    "        reason_csv[i] = parameters[\"reason\"]\n",
    "        h_x_csv[i] = parameters[\"h_x\"]\n",
    "        h_y_csv[i] = parameters[\"h_y\"]\n",
    "        b_csv[i] = b_x\n",
    "        db_csv[i] = db\n",
    "        i+=1\n",
    "    end\n",
    "end\n",
    "csv_data = DataFrame(db = db_csv, GA=GA_csv, P = P_csv, P2 = P2_csv, b = b_csv, h_x = h_x_csv, h_y = h_y_csv ,parameters = parameters)\n",
    "CSV.write(\"result_p_b.csv\",csv_data)\n"
   ]
  },
  {
   "cell_type": "code",
   "execution_count": 39,
   "id": "e8689971",
   "metadata": {},
   "outputs": [
    {
     "ename": "LoadError",
     "evalue": "MethodError: \u001b[0mCannot `convert` an object of type \u001b[92mString\u001b[39m\u001b[0m to an object of type \u001b[91mReal\u001b[39m\n\u001b[0mClosest candidates are:\n\u001b[0m  convert(::Type{T}, \u001b[91m::Gray24\u001b[39m) where T<:Real at C:\\Users\\Alan\\.julia\\packages\\ColorTypes\\6m8P7\\src\\conversions.jl:114\n\u001b[0m  convert(::Type{T}, \u001b[91m::Gray\u001b[39m) where T<:Real at C:\\Users\\Alan\\.julia\\packages\\ColorTypes\\6m8P7\\src\\conversions.jl:113\n\u001b[0m  convert(::Type{T}, \u001b[91m::Base.TwicePrecision\u001b[39m) where T<:Number at C:\\Users\\Alan\\AppData\\Local\\Programs\\Julia-1.7.1\\share\\julia\\base\\twiceprecision.jl:262\n\u001b[0m  ...",
     "output_type": "error",
     "traceback": [
      "MethodError: \u001b[0mCannot `convert` an object of type \u001b[92mString\u001b[39m\u001b[0m to an object of type \u001b[91mReal\u001b[39m\n\u001b[0mClosest candidates are:\n\u001b[0m  convert(::Type{T}, \u001b[91m::Gray24\u001b[39m) where T<:Real at C:\\Users\\Alan\\.julia\\packages\\ColorTypes\\6m8P7\\src\\conversions.jl:114\n\u001b[0m  convert(::Type{T}, \u001b[91m::Gray\u001b[39m) where T<:Real at C:\\Users\\Alan\\.julia\\packages\\ColorTypes\\6m8P7\\src\\conversions.jl:113\n\u001b[0m  convert(::Type{T}, \u001b[91m::Base.TwicePrecision\u001b[39m) where T<:Number at C:\\Users\\Alan\\AppData\\Local\\Programs\\Julia-1.7.1\\share\\julia\\base\\twiceprecision.jl:262\n\u001b[0m  ...",
      "",
      "Stacktrace:",
      " [1] setindex!(h::Dict{String, Real}, v0::String, key::String)",
      "   @ Base .\\dict.jl:381",
      " [2] ESS(parameters::Dict{String, Real})",
      "   @ Main .\\In[5]:53",
      " [3] top-level scope",
      "   @ In[39]:1",
      " [4] eval",
      "   @ .\\boot.jl:373 [inlined]",
      " [5] include_string(mapexpr::typeof(REPL.softscope), mod::Module, code::String, filename::String)",
      "   @ Base .\\loading.jl:1196"
     ]
    }
   ],
   "source": [
    "ESS(parameters)"
   ]
  },
  {
   "cell_type": "code",
   "execution_count": 29,
   "id": "0d6d05e0",
   "metadata": {},
   "outputs": [
    {
     "name": "stdout",
     "output_type": "stream",
     "text": [
      "0.0\n",
      "1.2593754630534482\n"
     ]
    }
   ],
   "source": [
    "parameters[\"b_x\"] = rand(1)[1]*5+3\n",
    "parameters[\"b_y\"] = parameters[\"b_x\"]+rand(1)[1]\n",
    "parameters = ESS(parameters)\n",
    "println(parameters[\"b_x\"]*parameters[\"h_x\"])\n",
    "println(parameters[\"b_y\"]*parameters[\"h_y\"])\n"
   ]
  },
  {
   "cell_type": "code",
   "execution_count": 35,
   "id": "ec4fa5e5",
   "metadata": {},
   "outputs": [
    {
     "data": {
      "text/plain": [
       "1×5 Matrix{Float64}:\n",
       " 0.0972319  0.352924  0.35538  0.0972319  0.0972319"
      ]
     },
     "execution_count": 35,
     "metadata": {},
     "output_type": "execute_result"
    }
   ],
   "source": [
    "#parameters\n",
    "\n",
    "#survival\n",
    "s_u = 0.5\n",
    "s_x = 0.5\n",
    "s_y = 0.5\n",
    "s_jx = 0.5\n",
    "s_jy = 0.5\n",
    "\n",
    "#fecundity\n",
    "b_x = 3\n",
    "b_y = 4\n",
    "phi = 0.1\n",
    "M = 1\n",
    "theta_x(x,y) = (1-phi)*x/(x+y)\n",
    "theta_y(x,y) = (1-phi)*y/(x+y)\n",
    "psi_x(x,y) = 1+phi+theta_x(x,y)\n",
    "psi_y(x,y) = 1+phi+theta_y(x,y)\n",
    "\n",
    "#competition\n",
    "p_u = 0.5\n",
    "p_j = 0.5\n",
    "a = 2\n",
    "p_u_t(x,y) = p_u/(1+a*(x+y))\n",
    "p_j_t(x,y) = p_j/(1+a*(x+y))\n",
    "\n",
    "#Cooperation\n",
    "h_x = 0.5\n",
    "h_y = 0.5\n",
    "T_x(h_x) = 1-exp(-h_x*b_x)\n",
    "T_y(h_y) = exp(-h_y*b_y)\n",
    "\n",
    "parameters = Dict(\"b_x\"=>b_x,\"b_y\"=>b_y,\"s_u\"=>s_u,\"s_jx\"=>s_jx,\"s_jy\"=>s_jy,\"s_x\"=>s_x,\"s_y\"=>s_y,\"phi\"=>phi,\"M\"=>M,\"a\"=>a,\"p_u\"=>p_u,\"p_j\"=>p_j,\"h_x\" =>h_x, \"h_y\" =>h_y,\"h_x_bar\" =>h_x, \"h_y_bar\" =>h_y, )\n",
    "\n",
    "mu = equilibrium_mu(parameters)\n",
    "equilibrium_nu_M(parameters,mu)"
   ]
  },
  {
   "cell_type": "code",
   "execution_count": 42,
   "id": "62b41ab7",
   "metadata": {},
   "outputs": [
    {
     "data": {
      "text/plain": [
       "-1"
      ]
     },
     "execution_count": 42,
     "metadata": {},
     "output_type": "execute_result"
    }
   ],
   "source": [
    "a=-10\n",
    "sign(a)"
   ]
  }
 ],
 "metadata": {
  "kernelspec": {
   "display_name": "Julia 1.7.1",
   "language": "julia",
   "name": "julia-1.7"
  },
  "language_info": {
   "file_extension": ".jl",
   "mimetype": "application/julia",
   "name": "julia",
   "version": "1.7.1"
  }
 },
 "nbformat": 4,
 "nbformat_minor": 5
}
